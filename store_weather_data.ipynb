{
  "nbformat": 4,
  "nbformat_minor": 0,
  "metadata": {
    "colab": {
      "provenance": [],
      "authorship_tag": "ABX9TyOxU/8B/d8j2FIRETU7G4g1",
      "include_colab_link": true
    },
    "kernelspec": {
      "name": "python3",
      "display_name": "Python 3"
    },
    "language_info": {
      "name": "python"
    }
  },
  "cells": [
    {
      "cell_type": "markdown",
      "metadata": {
        "id": "view-in-github",
        "colab_type": "text"
      },
      "source": [
        "<a href=\"https://colab.research.google.com/github/bubblybit23/weather-data-pipeline/blob/main/store_weather_data.ipynb\" target=\"_parent\"><img src=\"https://colab.research.google.com/assets/colab-badge.svg\" alt=\"Open In Colab\"/></a>"
      ]
    },
    {
      "cell_type": "code",
      "execution_count": 1,
      "metadata": {
        "id": "I8w5ve1k5WM1"
      },
      "outputs": [],
      "source": [
        "import duckdb\n",
        "\n",
        "def store_data():\n",
        "    db_connection = duckdb.connect(\"weather_data.db\")\n",
        "    db_connection.execute(\"CREATE TABLE IF NOT EXISTS weather AS SELECT * FROM read_csv_auto('weather_data.csv')\")\n",
        "    print(\"✅ Data stored in DuckDB!\")\n",
        "\n",
        "store_data()\n"
      ]
    }
  ]
}