{
  "nbformat": 4,
  "nbformat_minor": 0,
  "metadata": {
    "colab": {
      "provenance": [],
      "authorship_tag": "ABX9TyNy2Nk5tqZdfjvjicv1w8Gj",
      "include_colab_link": true
    },
    "kernelspec": {
      "name": "python3",
      "display_name": "Python 3"
    },
    "language_info": {
      "name": "python"
    }
  },
  "cells": [
    {
      "cell_type": "markdown",
      "metadata": {
        "id": "view-in-github",
        "colab_type": "text"
      },
      "source": [
        "<a href=\"https://colab.research.google.com/github/bubblybit23/weather-data-pipeline/blob/main/app.ipynb\" target=\"_parent\"><img src=\"https://colab.research.google.com/assets/colab-badge.svg\" alt=\"Open In Colab\"/></a>"
      ]
    },
    {
      "cell_type": "code",
      "execution_count": null,
      "metadata": {
        "id": "NlevOd2WEBXQ"
      },
      "outputs": [],
      "source": [
        "import streamlit as st\n",
        "import duckdb\n",
        "import pandas as pd\n",
        "\n",
        "def load_data():\n",
        "    db_connection = duckdb.connect(\"weather_data.db\")\n",
        "    df = db_connection.execute(\"SELECT * FROM weather\").df()\n",
        "    return df\n",
        "\n",
        "df = load_data()\n",
        "\n",
        "st.title(\"🌤️ Weather Dashboard\")\n",
        "st.line_chart(df.set_index(\"time\")[\"temperature_2m\"])\n"
      ]
    }
  ]
}