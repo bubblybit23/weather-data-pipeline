{
  "nbformat": 4,
  "nbformat_minor": 0,
  "metadata": {
    "colab": {
      "provenance": [],
      "authorship_tag": "ABX9TyMjeoli5oKE2Ck5vCJQYP2K",
      "include_colab_link": true
    },
    "kernelspec": {
      "name": "python3",
      "display_name": "Python 3"
    },
    "language_info": {
      "name": "python"
    }
  },
  "cells": [
    {
      "cell_type": "markdown",
      "metadata": {
        "id": "view-in-github",
        "colab_type": "text"
      },
      "source": [
        "<a href=\"https://colab.research.google.com/github/bubblybit23/weather-data-pipeline/blob/main/fetch_weather_data.ipynb\" target=\"_parent\"><img src=\"https://colab.research.google.com/assets/colab-badge.svg\" alt=\"Open In Colab\"/></a>"
      ]
    },
    {
      "cell_type": "code",
      "execution_count": null,
      "metadata": {
        "id": "LgGSaM63z4KP"
      },
      "outputs": [],
      "source": []
    },
    {
      "cell_type": "code",
      "source": [
        "import requests\n",
        "import pandas as pd\n",
        "\n",
        "def fetch_weather_data():\n",
        "    URL = \"https://api.open-meteo.com/v1/forecast?latitude=40.71&longitude=-74.01&hourly=temperature_2m\"\n",
        "    response = requests.get(URL)\n",
        "    data = response.json()\n",
        "    df = pd.DataFrame(data['hourly'])\n",
        "    df.to_csv(\"weather_data.csv\", index=False)\n",
        "    print(\"✅ Weather data fetched and saved to CSV!\")\n",
        "\n",
        "fetch_weather_data()\n"
      ],
      "metadata": {
        "colab": {
          "base_uri": "https://localhost:8080/"
        },
        "id": "N1LQZHSP0JN5",
        "outputId": "a35b4d08-5efc-43ef-e463-867763bf1d37"
      },
      "execution_count": 5,
      "outputs": [
        {
          "output_type": "stream",
          "name": "stdout",
          "text": [
            "✅ Weather data fetched and saved to CSV!\n"
          ]
        }
      ]
    }
  ]
}